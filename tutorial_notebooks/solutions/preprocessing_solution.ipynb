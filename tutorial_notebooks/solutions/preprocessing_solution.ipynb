{
  "cells": [
    {
      "cell_type": "markdown",
      "metadata": {
        "id": "_N6nfqp9WI4G"
      },
      "source": [
        "# 2. Preprocessing"
      ]
    },
    {
      "cell_type": "markdown",
      "metadata": {
        "id": "KOse0E6AWMv0"
      },
      "source": [
        "Welcome to the second part of our tutorial.\n",
        "This notebook will teach you how to preprocess a sensor based Human Activity Recognition dataset.\n",
        "\n",
        "Data preprocessing is an essential part of any Deep Learning project. In this part you \n",
        "To be able to choose the correct preprocessing steps, first we need to get to know our data. However, this topic has already been dealt with in Chapter 1.\n",
        "\n",
        "In the first part we will work on the same subset, that we already had been working with in Chapter 1.\n",
        "So let's start by reading in the dataset.\n",
        "\n",
        "Welcome to the second notebook of our six part series part of our tutorial on Deep Learning for Human Activity Recognition. Within the last notebook you learned:\n",
        "\n",
        "- How do I use Google Colab and Jupyter Notebooks? \n",
        "- How do I load a dataset using pandas?\n",
        "- How do I analyze the labeling? How do I plot sample activity data?\n",
        "- What are sample, more detailled analysis that one can apply on a HAR dataset?\n",
        "\n",
        "This notebook will teach you everything you need to know about preprocessing. Sensor datasets in their raw form are (usually) very messy. This notebook will teach you which preprocessing steps can or should be executed on a dataset, in order to train a working classifer, i.e. our neural network architecture, which we will define in later notebooks. \n",
        "\n",
        "After completing this notebook you will be answer the following questions:\n",
        "- What data cleaning steps usually need to be performed on a raw sensor dataset?\n",
        "- How and why do we perform scaling/normalization?\n",
        "- What is a sliding window? How do we apply it?"
      ]
    },
    {
      "cell_type": "markdown",
      "metadata": {
        "id": "yHd4_XMZV9uU"
      },
      "source": [
        "## 2.1. Important Remarks"
      ]
    },
    {
      "cell_type": "markdown",
      "metadata": {
        "id": "M0U4jPu57dKh"
      },
      "source": [
        "If you are accessing this tutorial via [Google Colab](https://colab.research.google.com/github/mariusbock/dl-for-har/blob/main/tutorial_notebooks/training.ipynb), first make sure to use Google Colab in English. This will help us to better assist you with issues that might arise during the tutorial. There are two ways to change the default language if it isn't English already:\n",
        "1. On Google Colab, go to `Help` -> `View in English`\n",
        "2. Change the default language of your browser to `English`.\n",
        "\n",
        "To also ease the communication when communicating errors, enable line numbers within the settings of Colab.\n",
        "\n",
        "1. On Google Colab, go to `Tools` -> `Settings` -> `Editor` -> `Show line numbers`\n",
        "\n",
        "In general, we strongly advise you to use Google Colab as it provides you with a working Python distribution as well as free GPU resources. To make Colab use GPUs, you need to change the current notebooks runtime type via:\n",
        "\n",
        "- `Runtime` -> `Change runtime type` -> `Dropdown` -> `GPU` -> `Save`\n",
        "\n",
        "**Hint:** you can auto-complete code in Colab via `ctrl` + `spacebar`\n",
        "\n",
        "For the live tutorial, we require all participants to use Colab. If you decide to rerun the tutorial at later points and rather want to have it run locally on your machine, feel free to clone our [GitHub repository](https://github.com/mariusbock/dl-for-har).\n",
        "\n",
        "To get started with this notebook, you need to first run the code cell below. Please set `use_colab` to be `True` if you are accessing this notebook via Colab. If not, please set it to `False`. This code cell will make sure that imports from our GitHub repository will work."
      ]
    },
    {
      "cell_type": "code",
      "execution_count": null,
      "metadata": {
        "id": "q7TrTsQ07dKi",
        "pycharm": {
          "name": "#%%\n"
        }
      },
      "outputs": [],
      "source": [
        "import os, sys\n",
        "\n",
        "use_colab = False\n",
        "\n",
        "module_path = os.path.abspath(os.path.join('../..'))\n",
        "\n",
        "if use_colab:\n",
        "    # move to content directory and remove directory for a clean start\n",
        "    %cd /content/\n",
        "    %rm -rf dl-for-har\n",
        "    # clone package repository (will throw error if already cloned)\n",
        "    !git clone https://github.com/mariusbock/dl-for-har.git\n",
        "    # navigate to dl-for-har directory\n",
        "    %cd dl-for-har/\n",
        "else:\n",
        "    os.chdir(module_path)\n",
        "\n",
        "# this statement is needed so that we can use the methods of the DL-ARC pipeline\n",
        "if module_path not in sys.path:\n",
        "    sys.path.append(module_path)"
      ]
    },
    {
      "cell_type": "markdown",
      "metadata": {
        "id": "t99_nGNF7dKi",
        "pycharm": {
          "name": "#%% md\n"
        }
      },
      "source": [
        "## 2.2. Reading the dataset"
      ]
    },
    {
      "cell_type": "markdown",
      "metadata": {
        "id": "X5WDJwC3sDCm"
      },
      "source": [
        "Before getting into the actual content of this notebook, we need to load the data again. Instead of using the same way as previously and loading the dataset we will use a predefined method of the DL-ARC feature stack called `load_dataset()`. Since the method returns [numpy](https://numpy.org/) arrays we also need to adjust our workflow from now on to index arrays according to [numpy](https://numpy.org/) syntax. If you want to familiarise yourself how to index check out this [webpage](https://numpy.org/doc/stable/reference/arrays.indexing.html)."
      ]
    },
    {
      "cell_type": "markdown",
      "metadata": {
        "id": "UylUlb4oudF9"
      },
      "source": [
        "### Task 1: Loading the data"
      ]
    },
    {
      "cell_type": "markdown",
      "metadata": {
        "id": "j6ivdlKUunCC"
      },
      "source": [
        "1. Load the `rwhar_3sbjs` data using the load_dataset function. The function is already imported for you. (`lines 8-9`)\n",
        "2. The method returns additional attributes. Have a look at them. You can also print them to see what values they have."
      ]
    },
    {
      "cell_type": "code",
      "execution_count": null,
      "metadata": {
        "id": "9HrDYNAA7dKj",
        "pycharm": {
          "name": "#%%\n"
        }
      },
      "outputs": [],
      "source": [
        "import numpy as np\n",
        "import warnings\n",
        "warnings.filterwarnings(\"ignore\")\n",
        "\n",
        "from data_processing.preprocess_data import load_dataset\n",
        "\n",
        "\n",
        "# load the dataset using the load_dataset() function; pass the method the name of the dataset as a string\n",
        "X, y, num_classes, class_names, sampling_rate, has_null = load_dataset('rwhar_3sbjs')\n",
        "\n",
        "# Convert the pandas object to a NumPy array\n",
        "y_np = y.to_numpy()\n",
        "\n",
        "# since the method returns features and labels separately, we need to concat them\n",
        "# since y is\n",
        "data = np.concatenate((X, y_np[:, None]), axis=1)\n",
        "\n",
        "print('\\nShape of the dataset:')\n",
        "print(data.shape)\n",
        "print(data)"
      ]
    },
    {
      "cell_type": "markdown",
      "metadata": {
        "id": "qY_A3yAQy7zg"
      },
      "source": [
        "## 2.3. Cleaning\n"
      ]
    },
    {
      "cell_type": "markdown",
      "metadata": {
        "id": "cpR7wY2i7dKj"
      },
      "source": [
        "There can be several reasons why we need to clean up a dataset. For example, it is common that datasets has missing values.\n",
        "These values need to be interpolated. PAMAP2 is one of the datasets that is used very frequently in scientific publications, which contains missing values.\n",
        "\n",
        "An example to clean data from missing values, especially NaN-values, can be found in the file **data_processing.preprocess.data.py**.\n",
        "\n",
        "Also, it can be beneficial to clean a dataset from noisy data or from outliers.\n",
        "But be careful with cleaning the data from noise or outlier, since it only is recommendable if the noise/outlier is not from any importance for the use case of your model.\n"
      ]
    },
    {
      "cell_type": "code",
      "execution_count": null,
      "metadata": {
        "id": "vsLGPHl5buVi",
        "pycharm": {
          "name": "#%%\n"
        }
      },
      "outputs": [],
      "source": [
        "import random\n",
        "from data_processing.preprocess_data import replace_nan_values\n",
        "data_with_nan = data.copy()\n",
        "\n",
        "for i in range(0, 10):\n",
        "    fill_index = random.randint(1, 20)\n",
        "    data_with_nan[fill_index] = [np.nan, np.nan, np.nan, np.nan, np.nan]\n",
        "\n",
        "print(data_with_nan[:20])"
      ]
    },
    {
      "cell_type": "code",
      "execution_count": null,
      "metadata": {
        "id": "SP1fbSpPbuVi",
        "pycharm": {
          "name": "#%%\n"
        }
      },
      "outputs": [],
      "source": [
        "participant_interpolated = replace_nan_values(data_with_nan[:,0], 'int')\n",
        "acc_x_interpolated = replace_nan_values(data_with_nan[:,1])\n",
        "acc_y_interpolated = replace_nan_values(data_with_nan[:,2])\n",
        "acc_z_interpolated = replace_nan_values(data_with_nan[:,3])\n",
        "label_interpolated = replace_nan_values(data_with_nan[:,4], 'int')\n",
        "\n",
        "data_interpolated = np.array([participant_interpolated, acc_x_interpolated, acc_y_interpolated, acc_z_interpolated, label_interpolated]).T\n",
        "print(data_interpolated[:20])"
      ]
    },
    {
      "cell_type": "markdown",
      "metadata": {
        "collapsed": false,
        "id": "1L9EuKSpbuVi"
      },
      "source": [
        "## 2.4. Resampling"
      ]
    },
    {
      "cell_type": "markdown",
      "metadata": {
        "id": "qs10j5tc7dKl"
      },
      "source": [
        "Resampling is necessary if we work with data from sensors that did record with different sampling rates.\n",
        "It can either be done by up- or downsample the data.\n",
        "\n",
        "An example for a function that either up- or downsamples time series data, can be found as well in our collection of preprocessing functions: **data_processing.preprocess_data.py**."
      ]
    },
    {
      "cell_type": "markdown",
      "metadata": {
        "id": "MBZBJVHCzgQY"
      },
      "source": [
        "## 2.5. Scaling"
      ]
    },
    {
      "cell_type": "markdown",
      "metadata": {
        "id": "RqQ5H34I7dKl",
        "pycharm": {
          "name": "#%% md\n"
        }
      },
      "source": [
        "Scaling is in an important part in the preprocessing chain, but can also the reason for many mistakes."
      ]
    },
    {
      "cell_type": "markdown",
      "metadata": {
        "id": "W0osXSLSzjzU"
      },
      "source": [
        "### 2.5.1 How to (re)scale?\n",
        "\n",
        "We should have a look on our dataset before we apply rescaling.\n",
        "\n",
        "However, we will first reduce our dataset to only one subject."
      ]
    },
    {
      "cell_type": "code",
      "execution_count": null,
      "metadata": {
        "id": "EEbh2tRg7dKl",
        "pycharm": {
          "name": "#%%\n"
        }
      },
      "outputs": [],
      "source": [
        "#Please reduce your dataset to only one subject and plot the data by executing this code cell.\n",
        "from data_processing.plotting import plot_data\n",
        "\n",
        "data = data[data[:, 0] == 0]\n",
        "plot_data(data[:,1:4], 'Original Dataset')"
      ]
    },
    {
      "cell_type": "markdown",
      "metadata": {
        "id": "HU5ASztmBJCK"
      },
      "source": [
        "This plot shows our unpreprocessed 3D accelerometer data.\n",
        "\n",
        "Depending on how we organize our dataset before applying rescaling, the outcome differs a lot.\n",
        "To illustrate this problem, we prepared the following example.\n",
        "In this example we separated our data into one array for every type of activity before we applied rescaling."
      ]
    },
    {
      "cell_type": "code",
      "execution_count": null,
      "metadata": {
        "id": "f8fnuz5N7dKm",
        "pycharm": {
          "name": "#%%\n"
        }
      },
      "outputs": [],
      "source": [
        "from sklearn.preprocessing import MinMaxScaler\n",
        "import pandas as pd\n",
        "\n",
        "scaler = MinMaxScaler(feature_range=(-1,1))\n",
        "data_activity_wise = {}\n",
        "data_activity_wise_scaled = []\n",
        "all_activites = pd.unique(pd.Series(data[:, -1]))\n",
        "\n",
        "for activity in all_activites:\n",
        "    data_activity_wise[activity] = data[data[:, -1] == activity]"
      ]
    },
    {
      "cell_type": "code",
      "execution_count": null,
      "metadata": {
        "id": "mo06fmCUzzoL",
        "pycharm": {
          "name": "#%%\n"
        }
      },
      "outputs": [],
      "source": [
        "for activity, activity_data in data_activity_wise.items():\n",
        "    data_activity_wise_scaled.append(scaler.fit_transform(activity_data[:, 1:4]))\n",
        "\n",
        "scaled_data = scaler.fit_transform(data[:, 1:4])\n",
        "data_scaled_at_once = np.concatenate((scaled_data, data[:, -1][:, None]), axis=1)\n",
        "data_activity_wise = np.concatenate(data_activity_wise_scaled)\n",
        "\n",
        "plot_data(data_scaled_at_once[:, 0:3], \"Scaled at once\")\n",
        "plot_data(data_activity_wise, 'Activity-Wise Scaled')\n",
        "\n",
        "print(\"Scaled at once:\")\n",
        "print(\"Mean(x): \" + str(np.mean(data_scaled_at_once[:, 1])) + \"; Std(x): \" + str(np.std(data_scaled_at_once[:, 1])))\n",
        "print(\"Mean(y): \" + str(np.mean(data_scaled_at_once[:, 2])) + \"; Std(y): \" + str(np.std(data_scaled_at_once[:, 2])))\n",
        "print(\"Mean(z): \" + str(np.mean(data_scaled_at_once[:, 3])) + \"; Std(z): \" + str(np.std(data_scaled_at_once[:, 3])))\n",
        "\n",
        "print(\"\\nScaled activity-wise:\")\n",
        "print(\"Mean(x): \" + str(np.mean(data_activity_wise[:, 0])) + \"; Std(x): \" + str(np.std(data_activity_wise[:, 0])))\n",
        "print(\"Mean(y): \" + str(np.mean(data_activity_wise[:, 1])) + \"; Std(y): \" + str(np.std(data_activity_wise[:, 1])))\n",
        "print(\"Mean(z): \" + str(np.mean(data_activity_wise[:, 2])) + \"; Std(z): \" + str(np.std(data_activity_wise[:, 2])))"
      ]
    },
    {
      "cell_type": "markdown",
      "metadata": {
        "id": "s14WcR-17dKm",
        "pycharm": {
          "name": "#%% md\n"
        }
      },
      "source": [
        "This was kind of an \"unrealistic\" toy example and probably not so many programmers make this mistake.\n",
        "However, this rule also applies when our dataset consists of different inertial sensors.\n",
        "\n",
        "The following image shows how our datasets are often organized. We have a 2D matrix that contains the data from different sensor axes and inertial sensors.\n",
        "However, accelerometer, gyroscopes, magnetometer or any other sensor do not share\n",
        "the same boundaries. Furthermore, the boundaries also depend on the sensitivity used while recording the data."
      ]
    },
    {
      "cell_type": "markdown",
      "metadata": {
        "id": "Vm6YaKV8z3B6"
      },
      "source": [
        "![](https://github.com/mariusbock/dl-for-har/blob/main/images/pamap2_values_example.png?raw=true)"
      ]
    },
    {
      "cell_type": "markdown",
      "metadata": {
        "id": "70aa9jhz0Cjo"
      },
      "source": [
        "The numerical values of the magnetometer are much higher than accelerometer and gyroscope values. If we train our network with this data,\n",
        "the magnetometer data will have a much higher importance than the accelerometer and gyroscope.\n",
        "\n",
        "Unfortunately, scaling all sensor data together, will keep this imbalance, but we can break this up by rescaling data sensor wise.\n",
        "## 2.6. Jumping/Sliding Window"
      ]
    },
    {
      "cell_type": "markdown",
      "metadata": {
        "id": "fdc0r_377dKn",
        "pycharm": {
          "name": "#%% md\n"
        }
      },
      "source": [
        "In order to be able to feed our neural network with data, we need to organize it into smaller windows.\n",
        "Therefore, we apply a jumping/sliding window algorithm with which we are able to split our time series data into chunks that our input layer can work with.\n",
        "\n",
        "As already described in the slides, the algorithm has the parameter overlap_ratio. This parameter describes how much of the data of each window should overlap with the window before.\n",
        "\n",
        "\"It is generally assumed that due to the higher number of data points, overlapping sliding windows increase the performance of HAR classifiers compared to non-overlapping ones [2], and they are not prone to missing important events [3], particularly within activity transition periods.\" [1]"
      ]
    },
    {
      "cell_type": "markdown",
      "metadata": {
        "id": "6N046mZkE0O3",
        "pycharm": {
          "name": "#%% md\n"
        }
      },
      "source": [
        "### Task 2: Applying different sliding windows"
      ]
    },
    {
      "cell_type": "markdown",
      "metadata": {
        "collapsed": false,
        "id": "NmvYqCY8buVm"
      },
      "source": [
        "1. The RWHAR dataset has a sampling rate of 50 Hz. Using the function below, apply a sliding window on top of RWHAR dataset whose windows are 2 seconds long. Set the overlap ratio to be 0%. What are the dimensions of the resulting dataset? (`lines 34-38`)\n",
        "2. Change the overlap ratio of the slding window to 25%. What differences can you see and what do you think you need to be aware of when using an `overlap_ratio`? (`lines 40-43`)"
      ]
    },
    {
      "cell_type": "code",
      "execution_count": null,
      "metadata": {
        "id": "-7tfsbBIbuVn",
        "pycharm": {
          "name": "#%%\n"
        }
      },
      "outputs": [],
      "source": [
        "def sliding_window_samples(data, samples_per_window, overlap_ratio):\n",
        "    \"\"\"\n",
        "    Return a sliding window measured in number of samples over a data array.\n",
        "\n",
        "    :param data: input array, can be numpy or pandas dataframe\n",
        "    :param samples_per_window: window length as number of samples\n",
        "    :param overlap_ratio: overlap is meant as percentage and should be an integer value\n",
        "    :return: tuple of windows and indices\n",
        "    \"\"\"\n",
        "    windows = []\n",
        "    indices = []\n",
        "    curr = 0\n",
        "    win_len = int(samples_per_window)\n",
        "    if overlap_ratio is not None:\n",
        "        overlapping_elements = int((overlap_ratio / 100) * (win_len))\n",
        "        if overlapping_elements >= win_len:\n",
        "            print('Number of overlapping elements exceeds window size.')\n",
        "            return\n",
        "    while curr < len(data) - win_len:\n",
        "        windows.append(data[curr:curr + win_len])\n",
        "        indices.append([curr, curr + win_len])\n",
        "        curr = curr + win_len - overlapping_elements\n",
        "    try:\n",
        "        result_windows = np.array(windows)\n",
        "        result_indices = np.array(indices)\n",
        "    except:\n",
        "        result_windows = np.empty(shape=(len(windows), win_len, data.shape[1]), dtype=object)\n",
        "        result_indices = np.array(indices)\n",
        "        for i in range(0, len(windows)):\n",
        "            result_windows[i] = windows[i]\n",
        "            result_indices[i] = indices[i]\n",
        "    return result_windows, result_indices\n",
        "\n",
        "# apply the sliding_window_samples() function on top of the data\n",
        "# samples_per_window shall be equivalent to two seconds; overlap_ratio shall be 0%\n",
        "print(\"Shape of the windowed dataset (2 seconds with 0% overlap):\")\n",
        "windowed_data, _ = sliding_window_samples(data, 100, 0)\n",
        "print(windowed_data.shape)\n",
        "\n",
        "# change the overlap_ratio shall to be 25%; What do you need to be aware of?\n",
        "windowed_data, _ = sliding_window_samples(data, 100, 25)\n",
        "print(\"\\nShape of the windowed dataset (2 seconds with 25% overlap):\")\n",
        "print(windowed_data.shape)"
      ]
    },
    {
      "cell_type": "markdown",
      "metadata": {
        "collapsed": false,
        "id": "7tNlMQu1buVn"
      },
      "source": [
        "# References\n",
        "[1] Dehghani, Akbar, et al. \"A quantitative comparison of overlapping and non-overlapping sliding windows for human activity recognition using inertial sensors.\" Sensors 19.22 (2019): 5026.\n",
        "\n",
        "[2] Janidarmian, Majid, Katarzyna Radecka, and Zeljko Zilic. \"Automated diagnosis of knee pathology using sensory data.\" 2014 4th international conference on wireless mobile communication and healthcare-transforming healthcare through innovations in mobile and wireless technologies (mobihealth). IEEE, 2014.\n",
        "\n",
        "[3] Coggeshall, Stephen, and Guowei Wu. \"Asset allocation and long-term returns: An empirical approach.\" Available at SSRN 873184 (2005)."
      ]
    }
  ],
  "metadata": {
    "colab": {
      "collapsed_sections": [],
      "name": "preprocessing_solution.ipynb",
      "provenance": [],
      "toc_visible": true
    },
    "kernelspec": {
      "display_name": "dl_for_har",
      "language": "python",
      "name": "python3"
    },
    "language_info": {
      "codemirror_mode": {
        "name": "ipython",
        "version": 3
      },
      "file_extension": ".py",
      "mimetype": "text/x-python",
      "name": "python",
      "nbconvert_exporter": "python",
      "pygments_lexer": "ipython3",
      "version": "3.10.16"
    }
  },
  "nbformat": 4,
  "nbformat_minor": 0
}
